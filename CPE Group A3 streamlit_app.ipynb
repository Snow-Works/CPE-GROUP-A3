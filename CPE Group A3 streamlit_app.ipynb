{
 "cells": [
  {
   "cell_type": "code",
   "execution_count": 1,
   "id": "6629fc5a-50b1-40f6-bdf1-276f7329bee9",
   "metadata": {},
   "outputs": [
    {
     "name": "stdout",
     "output_type": "stream",
     "text": [
      "Overwriting streamlit_app.py\n"
     ]
    }
   ],
   "source": [
    "%%writefile streamlit_app.py\n",
    "import streamlit as st\n",
    "import joblib\n",
    "import pandas as pd\n",
    "import numpy as np\n",
    "\n",
    "# Load the trained pipeline \n",
    "pipeline = joblib.load(\"laptop_pipeline.joblib\")\n",
    "\n",
    "st.title(\"Laptop Price Predictor\")\n",
    "\n",
    "# Input fields \n",
    "company = st.selectbox(\"Company\", [\"Dell\", \"HP\", \"Lenovo\", \"Apple\", \"Asus\", \"Acer\", \"MSI\", \"Razer\", \"Other\"])\n",
    "typename = st.selectbox(\"Type\", [\"Notebook\", \"Gaming\", \"Ultrabook\", \"Workstation\", \"Convertible\", \"2 in 1 Convertible\", \"Other\"])\n",
    "inches = st.slider(\"Screen Size (inches)\", 11.0, 20.0, 15.6)\n",
    "ram = st.slider(\"RAM (GB)\", 2, 64, 8)\n",
    "opsys = st.selectbox(\"Operating System\", [\"Windows 10\", \"Windows 7\", \"Mac OS\", \"Linux\", \"No OS\", \"Other\"])\n",
    "weight = st.slider(\"Weight (kg)\", 0.8, 5.0, 2.0)\n",
    "touchscreen = st.radio(\"Touchscreen\", [\"Yes\", \"No\"])\n",
    "ips = st.radio(\"IPS Display\", [\"Yes\", \"No\"])\n",
    "x_res = st.number_input(\"X Resolution (px)\", 800, 4000, 1366)\n",
    "y_res = st.number_input(\"Y Resolution (px)\", 600, 2500, 768)\n",
    "cpu_brand = st.selectbox(\"CPU Brand\", [\"Intel\", \"AMD\", \"Other\"])\n",
    "cpu_speed = st.number_input(\"CPU Speed (GHz)\", 1.0, 5.5, 2.5)\n",
    "gpu_brand = st.selectbox(\"GPU Brand\", [\"Intel\", \"Nvidia\", \"AMD\", \"Other\"])\n",
    "\n",
    "# Convert Yes/No → 0/1\n",
    "touchscreen_val = 1 if touchscreen == \"Yes\" else 0\n",
    "ips_val = 1 if ips == \"Yes\" else 0\n",
    "\n",
    "# Auto-calculate PPI\n",
    "ppi = ((x_res**2 + y_res**2) ** 0.5) / inches\n",
    "\n",
    "# Build input dictionary \n",
    "user_input = {\n",
    "    \"Company\": company,\n",
    "    \"TypeName\": typename,\n",
    "    \"Inches\": inches,\n",
    "    \"Ram\": float(ram),\n",
    "    \"OpSys\": opsys,\n",
    "    \"Weight\": weight,\n",
    "    \"Touchscreen\": touchscreen_val,\n",
    "    \"IPS\": ips_val,\n",
    "    \"X_res\": x_res,\n",
    "    \"Y_res\": y_res,\n",
    "    \"PPI\": ppi,\n",
    "    \"Cpu Brand\": cpu_brand,\n",
    "    \"Cpu Speed\": cpu_speed,\n",
    "    \"Gpu Brand\": gpu_brand\n",
    "}\n",
    "\n",
    "# Convert to DataFrame\n",
    "input_df = pd.DataFrame([user_input])\n",
    "\n",
    "st.write(\"### Preview of your input\")\n",
    "st.dataframe(input_df)\n",
    "\n",
    "# Prediction button\n",
    "if st.button(\"Predict Price\"):\n",
    "    try:\n",
    "        price = pipeline.predict(input_df)[0]\n",
    "        st.success(f\"Estimated Laptop Price: ${price:,.2f}\")\n",
    "    except Exception as e:\n",
    "        st.error(f\"Error making prediction: {e}\")\n"
   ]
  },
  {
   "cell_type": "code",
   "execution_count": null,
   "id": "394eddde-d3c8-4f35-aa7a-fbb268b9c353",
   "metadata": {},
   "outputs": [],
   "source": []
  }
 ],
 "metadata": {
  "kernelspec": {
   "display_name": "Python 3 (ipykernel)",
   "language": "python",
   "name": "python3"
  },
  "language_info": {
   "codemirror_mode": {
    "name": "ipython",
    "version": 3
   },
   "file_extension": ".py",
   "mimetype": "text/x-python",
   "name": "python",
   "nbconvert_exporter": "python",
   "pygments_lexer": "ipython3",
   "version": "3.13.5"
  }
 },
 "nbformat": 4,
 "nbformat_minor": 5
}
